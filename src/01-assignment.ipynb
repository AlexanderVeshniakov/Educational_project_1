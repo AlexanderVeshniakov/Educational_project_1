{
 "cells": [
  {
   "cell_type": "markdown",
   "id": "c78b058d-777d-4369-b86d-0c0fc013eba9",
   "metadata": {},
   "source": [
    "Функция для нахождения корней квадратного уравнения:\n",
    "- Принимает на вход коэффициент a, b, c;\n",
    "- Возвращает список корней уравнения;\n",
    "- Если корней у уравнения нет, возвращает  `None`."
   ]
  },
  {
   "cell_type": "code",
   "execution_count": null,
   "id": "03b8b371-870b-42cc-8f53-1e8596406894",
   "metadata": {},
   "outputs": [],
   "source": [
    "from math import sqrt\n",
    "\n",
    "def quadratic_equation(a, b, c):\n",
    "    while True:\n",
    "        try:\n",
    "            a, b, c = float(a), float(b), float(c)\n",
    "            if a == 0:\n",
    "                raise  ValueError (print ('Это не квадратное уравнение'))\n",
    "            else:\n",
    "                dskr = b ** 2 - (4 * a * c)\n",
    "                if dskr < 0:\n",
    "                    return None\n",
    "                elif dskr == 0:\n",
    "                    x = -b / (2 * a)\n",
    "                    x = round ( x, 2 )\n",
    "                    x = [ x ]\n",
    "                    return  x \n",
    "                elif dskr > 0:\n",
    "                    x1 = (-b + sqrt(dskr)) / (2 * a)\n",
    "                    x2 = (-b - sqrt(dskr)) / (2 * a)\n",
    "                    x1, x2 = round ( x1, 2 ) , round ( x2, 2 )\n",
    "                    result =  [ x1, x2 ]\n",
    "                    return  result \n",
    "        except ValueError as abc:\n",
    "            print(\"Ошибка!!! ПОВТОРИТЕ ВВОД\")\n",
    "            a = input('Введите a = ')\n",
    "            b = input('Введите b = ')\n",
    "            c = input('Введите c = ')\n",
    "\n",
    "quadratic_equation( a=input('Введите a = '),\n",
    "                    b=input('Введите b = '),\n",
    "                    c=input('Введите c = '))"
   ]
  },
  {
   "cell_type": "markdown",
   "id": "816c48be-0963-4bd6-bd86-c8172eb8968e",
   "metadata": {},
   "source": [
    "Функция сортировки:\n",
    "- На вход принимает cписок случайных чисел; \n",
    "- Возвращает уже отсортированный методом Пузырька по возрастанию."
   ]
  },
  {
   "cell_type": "code",
   "execution_count": null,
   "id": "3fbaf6b3-876f-4ecf-9be6-d26181ee3a48",
   "metadata": {},
   "outputs": [],
   "source": [
    "from random import randint\n",
    "\n",
    "def bubble_sort(lst):\n",
    "    n = len( lst )\n",
    "    for i in range ( n - 1 ):\n",
    "        flag = True\n",
    "        for j in range( n - i - 1 ):\n",
    "            if lst [ j ] > lst  [ j + 1 ]:\n",
    "                lst [ j ], lst [ j + 1 ] = lst [ j + 1 ], lst [ j ]\n",
    "                flag = False\n",
    "        if flag:\n",
    "            break\n",
    "    return print ( lst )\n",
    "\n",
    "lst = [ randint ( 1 , 100 ) for  i in range ( 1 ,101)]\n",
    "bubble_sort (lst)"
   ]
  },
  {
   "cell_type": "markdown",
   "id": "688251be-39a3-49ed-9993-a5f9b39f430d",
   "metadata": {},
   "source": [
    "Функция находит самое часто часто встречающееся слово в романе \"Война и Мир\" без учета:\n",
    "   * Пунктуации\n",
    "   * Слов **короче четырех** символов \n",
    "   * 'Стоп-слов', которые приведены в файле в stop_words_russian.txt"
   ]
  },
  {
   "cell_type": "code",
   "execution_count": null,
   "id": "94501d71-ee88-4f78-808d-20e79a5f3707",
   "metadata": {},
   "outputs": [],
   "source": [
    "def analyze_text():\n",
    "    total = dict()\n",
    "    \n",
    "    with open('../datasets/war_and_peace.txt', 'r', encoding='utf-8') as txt:\n",
    "        stop_words = open('../datasets/stop_words_russian.txt', 'r', encoding='utf-8')\n",
    "        exceptions = stop_words.read().split()\n",
    "        \n",
    "        for line in txt:\n",
    "            line = line.strip().lower()\n",
    "            for word in line.split():\n",
    "                word1 = word.strip('.,!?-()\" \"[]{}:;\\|/*„#1234567890')\n",
    "                if word1 in exceptions:\n",
    "                    continue\n",
    "                elif len(word1) < 4:\n",
    "                    continue\n",
    "                else:\n",
    "                    total[word1] = total.get(word1, 0) + 1\n",
    "    \n",
    "    max_key = max(total, key=total.get)\n",
    "    max_value = total[max_key]\n",
    "    \n",
    "    return max_key, max_value\n",
    "\n",
    "max_word, max_count = analyze_text()\n",
    "print(f\"Слово: {max_word}, Количество повторений: {max_count}\")\n",
    "  \n"
   ]
  },
  {
   "cell_type": "markdown",
   "id": "c2cef602-ab87-47f8-ab2c-e323442b62f7",
   "metadata": {},
   "source": [
    "Функция для расчета числа Фибоначчи с использованием рекурсивной функции."
   ]
  },
  {
   "cell_type": "code",
   "execution_count": null,
   "id": "ec1c1860-774d-4583-a44b-bdc30492eead",
   "metadata": {},
   "outputs": [],
   "source": [
    "def fib ( n ):\n",
    "    fib = [ 0, 1 ]\n",
    "    for i in range( 2, n + 1 ):\n",
    "        fib.append ( fib [ i - 1 ] +  fib [ i - 2 ])\n",
    "    return  fib [ n ]\n",
    "\n",
    "print ( fib ( int ( input ( 'Введите число:' ))))"
   ]
  },
  {
   "cell_type": "markdown",
   "id": "944e804e-fb40-4ea2-b931-38b595d3c262",
   "metadata": {},
   "source": [
    "Функция перевода валюты в рубли.\n",
    "- Принимает на вход название валюты в формате (EUR, USD, GBP), и ее объем в формате (float);\n",
    "- Возвращает стоимость в рублях."
   ]
  },
  {
   "cell_type": "code",
   "execution_count": null,
   "id": "570cfb71-5cf0-41fc-aae7-cf2b2812eaca",
   "metadata": {},
   "outputs": [],
   "source": [
    "import requests\n",
    "\n",
    "def convert2RU ( currency, value):\n",
    "    url = 'https://www.cbr-xml-daily.ru/daily_json.js'\n",
    "    response = requests.get(url).json()\n",
    "    \n",
    "    rates = response [ 'Valute' ]\n",
    "    if currency == 'RUB':\n",
    "        return   ( f' {value} RUB')\n",
    "    elif currency in rates:\n",
    "        rate = rates [ currency ][ 'Value' ]\n",
    "        return  (f' {round( rate * value, 2)}  RUB')\n",
    "    else:\n",
    "        raise ValueError('Такой валюты не существует')\n",
    "\n",
    "print ( convert2RU (currency = input ( ' Введите название валюты: '),\n",
    "            value = float (input ( 'Введите количество: '))) ) "
   ]
  },
  {
   "cell_type": "markdown",
   "id": "71315701-39bd-4759-afd9-7bf20486b4f7",
   "metadata": {},
   "source": [
    "Написание проверки на пaлиндром."
   ]
  },
  {
   "cell_type": "markdown",
   "id": "715fd45b-eb76-4eb5-bbd8-a257035fe892",
   "metadata": {},
   "source": [
    "1. На вход функции _isPalindrome_ подается **число** (int). \\\n",
    "Функция возвращает **True**, если число является палидромом и **False** в противном случае. "
   ]
  },
  {
   "cell_type": "code",
   "execution_count": null,
   "id": "9f48d9c7-c413-47fb-b692-ce5ad8ed9ec1",
   "metadata": {},
   "outputs": [],
   "source": [
    "def isPalindrome(x: int) -> bool:\n",
    "    x = str ( x )\n",
    "    if x [ 0 :] == x [ ::-1 ]:\n",
    "        return True\n",
    "    else:\n",
    "        return False\n",
    "   \n",
    "print ( isPalindrome ( x = int (input ( 'Введите число:'))))"
   ]
  },
  {
   "cell_type": "markdown",
   "id": "e86f6f7c-c3b0-4b92-bb3d-651dcc7d4706",
   "metadata": {},
   "source": [
    "2. Реализация функции без использования перевода числа в строку."
   ]
  },
  {
   "cell_type": "code",
   "execution_count": null,
   "id": "35cf92fa-04c6-489b-9523-99d78dce4ba1",
   "metadata": {},
   "outputs": [],
   "source": [
    "def isPalindrome_v2 ( x: int ) -> bool:\n",
    "    if x  < 0  or x  % 10 == 0:\n",
    "        return False\n",
    "    elif x < 10:  \n",
    "        return True\n",
    "    else:\n",
    "        reverse_x = 0\n",
    "        while x  > reverse_x:\n",
    "            reverse_x = ( reverse_x * 10 ) + ( x % 10 )\n",
    "            x  //= 10\n",
    "        return x == reverse_x or x == reverse_x // 10\n",
    "    \n",
    "print ( isPalindrome_v2 ( x = int (input ( 'Введите число:'))))"
   ]
  }
 ],
 "metadata": {
  "kernelspec": {
   "display_name": "Python 3 (ipykernel)",
   "language": "python",
   "name": "python3"
  },
  "language_info": {
   "codemirror_mode": {
    "name": "ipython",
    "version": 3
   },
   "file_extension": ".py",
   "mimetype": "text/x-python",
   "name": "python",
   "nbconvert_exporter": "python",
   "pygments_lexer": "ipython3",
   "version": "3.10.11"
  }
 },
 "nbformat": 4,
 "nbformat_minor": 5
}
